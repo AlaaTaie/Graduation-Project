{
 "cells": [
  {
   "cell_type": "markdown",
   "metadata": {},
   "source": [
    "# Imports"
   ]
  },
  {
   "cell_type": "code",
   "execution_count": 14,
   "metadata": {},
   "outputs": [],
   "source": [
    "import cv2\n",
    "from cvzone.PoseModule import PoseDetector\n",
    "import socket"
   ]
  },
  {
   "cell_type": "markdown",
   "metadata": {},
   "source": [
    "# Variables definition"
   ]
  },
  {
   "cell_type": "code",
   "execution_count": 15,
   "metadata": {},
   "outputs": [],
   "source": [
    "sock = socket.socket(socket.AF_INET, socket.SOCK_DGRAM)\n",
    "Port=5052\n",
    "IP=\"127.0.0.1\"\n",
    "ServerAddressPort = (IP, Port)\n",
    "detector = PoseDetector()\n",
    "# Video='../Videos/Main Exercises/DoneSide Leg Raise.mp4'\n",
    "Video = 0\n",
    "cap = cv2.VideoCapture(Video)"
   ]
  },
  {
   "cell_type": "markdown",
   "metadata": {},
   "source": [
    "# Data Sending"
   ]
  },
  {
   "cell_type": "code",
   "execution_count": 16,
   "metadata": {},
   "outputs": [],
   "source": [
    "while True:\n",
    "    success, img = cap.read()\n",
    "    if success:\n",
    "        data=[]\n",
    "        img = detector.findPose(img)\n",
    "        lmList, bboxInfo = detector.findPosition(img)\n",
    "        if bboxInfo:\n",
    "            for Landmark in lmList:\n",
    "                lm=Landmark\n",
    "                data.extend([lm[0],img.shape[1]-lm[1],lm[2]])\n",
    "            chunk_size = 1024\n",
    "            for i in range(0, len(data), chunk_size):\n",
    "                chunk = data[i:i + chunk_size]\n",
    "                sock.sendto(str.encode(str(chunk)), ServerAddressPort)\n",
    "        cv2.imshow(\"Image\", img)\n",
    "        if cv2.waitKey(1) & 0xFF == ord('q'):\n",
    "            cap.release()\n",
    "            cv2.destroyAllWindows()\n",
    "            break\n",
    "    else:\n",
    "        cap.release()\n",
    "        cv2.destroyAllWindows()\n",
    "        break"
   ]
  }
 ],
 "metadata": {
  "kernelspec": {
   "display_name": "env_Rec",
   "language": "python",
   "name": "python3"
  },
  "language_info": {
   "codemirror_mode": {
    "name": "ipython",
    "version": 3
   },
   "file_extension": ".py",
   "mimetype": "text/x-python",
   "name": "python",
   "nbconvert_exporter": "python",
   "pygments_lexer": "ipython3",
   "version": "3.11.4"
  }
 },
 "nbformat": 4,
 "nbformat_minor": 2
}
